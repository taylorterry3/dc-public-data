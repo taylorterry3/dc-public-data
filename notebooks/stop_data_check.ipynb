{
 "cells": [
  {
   "cell_type": "code",
   "execution_count": 1,
   "metadata": {},
   "outputs": [],
   "source": [
    "import pandas as pd"
   ]
  },
  {
   "cell_type": "code",
   "execution_count": 3,
   "metadata": {},
   "outputs": [
    {
     "name": "stderr",
     "output_type": "stream",
     "text": [
      "/var/folders/tx/fmb4v8gn6mj5c6shgzfqgkjm0000gq/T/ipykernel_65056/1798315713.py:1: DtypeWarning: Columns (7,45,49) have mixed types. Specify dtype option on import or set low_memory=False.\n",
      "  all_data = pd.read_csv(\"~/Downloads/Stop_Data_2019_to_2022.csv\")\n"
     ]
    }
   ],
   "source": [
    "all_data = pd.read_csv(\"~/Downloads/Stop_Data_2019_to_2022.csv\")"
   ]
  },
  {
   "cell_type": "code",
   "execution_count": 8,
   "metadata": {},
   "outputs": [
    {
     "data": {
      "text/plain": [
       "279936"
      ]
     },
     "execution_count": 8,
     "metadata": {},
     "output_type": "execute_result"
    }
   ],
   "source": [
    "all_data.shape[0]# +68940"
   ]
  }
 ],
 "metadata": {
  "kernelspec": {
   "display_name": ".venv",
   "language": "python",
   "name": "python3"
  },
  "language_info": {
   "codemirror_mode": {
    "name": "ipython",
    "version": 3
   },
   "file_extension": ".py",
   "mimetype": "text/x-python",
   "name": "python",
   "nbconvert_exporter": "python",
   "pygments_lexer": "ipython3",
   "version": "3.11.4"
  }
 },
 "nbformat": 4,
 "nbformat_minor": 2
}
