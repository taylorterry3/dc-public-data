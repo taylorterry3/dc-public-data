{
 "cells": [
  {
   "cell_type": "code",
   "execution_count": null,
   "metadata": {},
   "outputs": [
    {
     "data": {
      "text/plain": [
       "2"
      ]
     },
     "execution_count": 17,
     "metadata": {},
     "output_type": "execute_result"
    }
   ],
   "source": [
    "from bs4 import BeautifulSoup\n",
    "import pandas as pd\n",
    "\n",
    "# Load the MHTML file\n",
    "with open(\n",
    "    \"/Users/tterry/Downloads/DC_311_Service_Requests.mhtml\", \"r\", encoding=\"utf-8\"\n",
    ") as file:\n",
    "    mhtml_content = file.read()\n",
    "\n",
    "# Parse the MHTML content\n",
    "soup = BeautifulSoup(mhtml_content, \"html.parser\")\n",
    "\n",
    "# Find all the service cards\n",
    "service_cards = soup.find_all(\"div\", class_=\"recent_services_row\")\n",
    "\n",
    "# Initialize a list to store the service data\n",
    "services = []"
   ]
  },
  {
   "cell_type": "code",
   "execution_count": null,
   "metadata": {},
   "outputs": [],
   "source": [
    "# Iterate over each service card and extract the information\n",
    "for card in service_cards:\n",
    "    service_number = card.find(\n",
    "        \"c-web-card-container-new\"\n",
    "    )  # .get('data-service-number')\n",
    "    print(service_number)\n",
    "    sr_id = card.find(\"c-web-card-container-new\").get(\"data-sr-id\")\n",
    "    status = card.find(\"p\", class_=\"open_t other-hp\").text.strip()\n",
    "    title = card.find(\"p\", class_=\"Environment-h4 head-title\").text.strip()\n",
    "    address = card.find(\"p\", class_=\"caused sub-text\").text.strip()\n",
    "    submitted_by = (\n",
    "        card.find(\"p\", class_=\"caused sub-text\").find_next_sibling(\"p\").text.strip()\n",
    "    )\n",
    "    resolved_on = card.find(\"p\", class_=\"ExpectedResolutionDayDate\").text.strip()\n",
    "    resolution_title = card.find(\"p\", class_=\"ExpectedResolutionTitle\").text.strip()\n",
    "    resolution_status = card.find(\n",
    "        \"p\", class_=\"ExpectedResolutionrescheduled\"\n",
    "    ).text.strip()\n",
    "\n",
    "    # Append the extracted information to the services list\n",
    "    services.append(\n",
    "        {\n",
    "            \"Service Number\": service_number,\n",
    "            \"SR ID\": sr_id,\n",
    "            \"Status\": status,\n",
    "            \"Title\": title,\n",
    "            \"Address\": address,\n",
    "            \"Submitted By\": submitted_by,\n",
    "            \"Resolved On\": resolved_on,\n",
    "            \"Resolution Title\": resolution_title,\n",
    "            \"Resolution Status\": resolution_status,\n",
    "        }\n",
    "    )\n",
    "\n",
    "# Create a dataframe from the services list\n",
    "df_services = pd.DataFrame(services)\n",
    "print(df_services)"
   ]
  },
  {
   "cell_type": "code",
   "execution_count": null,
   "metadata": {},
   "outputs": [],
   "source": []
  }
 ],
 "metadata": {
  "kernelspec": {
   "display_name": ".venv",
   "language": "python",
   "name": "python3"
  },
  "language_info": {
   "name": "python",
   "version": "3.11.4"
  }
 },
 "nbformat": 4,
 "nbformat_minor": 2
}
