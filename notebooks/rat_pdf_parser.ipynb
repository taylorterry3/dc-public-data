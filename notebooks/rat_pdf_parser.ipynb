{
 "cells": [
  {
   "cell_type": "code",
   "execution_count": 1,
   "metadata": {},
   "outputs": [
    {
     "name": "stdout",
     "output_type": "stream",
     "text": [
      "Collecting PyPDF2\n",
      "  Downloading pypdf2-3.0.1-py3-none-any.whl (232 kB)\n",
      "\u001b[2K     \u001b[90m━━━━━━━━━━━━━━━━━━━━━━━━━━━━━━━━━━━━━━━\u001b[0m \u001b[32m232.6/232.6 kB\u001b[0m \u001b[31m2.9 MB/s\u001b[0m eta \u001b[36m0:00:00\u001b[0ma \u001b[36m0:00:01\u001b[0m\n",
      "\u001b[?25hInstalling collected packages: PyPDF2\n",
      "Successfully installed PyPDF2-3.0.1\n",
      "\n",
      "\u001b[1m[\u001b[0m\u001b[34;49mnotice\u001b[0m\u001b[1;39;49m]\u001b[0m\u001b[39;49m A new release of pip is available: \u001b[0m\u001b[31;49m23.2.1\u001b[0m\u001b[39;49m -> \u001b[0m\u001b[32;49m23.3.1\u001b[0m\n",
      "\u001b[1m[\u001b[0m\u001b[34;49mnotice\u001b[0m\u001b[1;39;49m]\u001b[0m\u001b[39;49m To update, run: \u001b[0m\u001b[32;49mpip install --upgrade pip\u001b[0m\n",
      "Note: you may need to restart the kernel to use updated packages.\n"
     ]
    }
   ],
   "source": [
    "%pip install PyPDF2"
   ]
  },
  {
   "cell_type": "code",
   "execution_count": 10,
   "metadata": {},
   "outputs": [],
   "source": [
    "import os\n",
    "import PyPDF2\n",
    "import pandas as pd\n",
    "import re\n",
    "\n",
    "def extract_info_from_pdf(pdf_path):\n",
    "    with open(pdf_path, 'rb') as file:\n",
    "        reader = PyPDF2.PdfReader(file)\n",
    "        number_of_pages = len(reader.pages)\n",
    "        page = reader.pages[0]\n",
    "        text = page.extract_text()\n",
    "        \n",
    "        return {\n",
    "            \"Date of Service\": extract_date_of_service(text),\n",
    "            \"Service Type\": extract_service_type(text),\n",
    "            \"Rats\": extract_checkbox_status(text, \"Rats\"),\n",
    "            \"Yard\": extract_checkbox_status(text, \"Yard\"),\n",
    "            \"Ditrac Tracking Powder Quantity (OZ)\": extract_ditrac_powder_qty(text),\n",
    "            \"Ditrac Blox Quantity (Each)\": extract_ditrac_blox_qty(text),\n",
    "            \"Tech Notes\": extract_tech_notes(text)\n",
    "        }\n",
    "\n",
    "def extract_date_of_service(text):\n",
    "    match = re.search(r'DATE OF SERVICE: (\\d{2}/\\d{2}/\\d{2})', text)\n",
    "    return match.group(1) if match else \"Unknown\"\n",
    "\n",
    "def extract_date_of_service(text):\n",
    "    match = re.search(r'DATE OF SERVICE: (\\d{2}/\\d{2}/\\d{2})', text)\n",
    "    return match.group(1) if match else \"Unknown\"\n",
    "\n",
    "def extract_service_type(text):\n",
    "    if \"Regular Service\" in text:\n",
    "        return \"Regular\"\n",
    "    elif \"One Time\" in text:\n",
    "        return \"One Time\"\n",
    "    else:\n",
    "        return \"Unknown\"\n",
    "\n",
    "def extract_checkbox_status(text, checkbox_name):\n",
    "    # This is a basic implementation and might not be accurate\n",
    "    return checkbox_name in text\n",
    "\n",
    "def extract_ditrac_powder_qty(text):\n",
    "    match = re.search(r'Ditrac Tracking Powder OZ (\\d+)', text)\n",
    "    return int(match.group(1)) if match else 0\n",
    "\n",
    "def extract_ditrac_blox_qty(text):\n",
    "    match = re.search(r'Ditrac Blox (\\d+) Each', text)\n",
    "    return int(match.group(1)) if match else 0\n",
    "\n",
    "def extract_tech_notes(text):\n",
    "    match = re.search(r'TECH NOTES\\n(.+?)\\nCUSTOMER SIGNATURE', text, re.DOTALL)\n",
    "    return match.group(1).strip() if match else \"No notes\"\n",
    "\n",
    "# Directory containing PDFs\n",
    "pdf_directory = \"/Users/tterry/Downloads/Garrison Work Orders/\"\n",
    "\n",
    "# List to hold all records\n",
    "records = []\n",
    "\n",
    "# Iterate over all PDFs in the directory\n",
    "for filename in os.listdir(pdf_directory):\n",
    "    if filename.endswith('.pdf'):\n",
    "        pdf_path = os.path.join(pdf_directory, filename)\n",
    "        record = extract_info_from_pdf(pdf_path)\n",
    "        records.append(record)\n",
    "\n",
    "# Create a DataFrame\n",
    "df = pd.DataFrame(records)\n",
    "\n",
    "# Save the DataFrame to a CSV file\n",
    "# df.to_csv(\"output.csv\", index=False)"
   ]
  },
  {
   "cell_type": "code",
   "execution_count": 13,
   "metadata": {},
   "outputs": [],
   "source": [
    "df.to_clipboard()"
   ]
  }
 ],
 "metadata": {
  "kernelspec": {
   "display_name": ".venv",
   "language": "python",
   "name": "python3"
  },
  "language_info": {
   "codemirror_mode": {
    "name": "ipython",
    "version": 3
   },
   "file_extension": ".py",
   "mimetype": "text/x-python",
   "name": "python",
   "nbconvert_exporter": "python",
   "pygments_lexer": "ipython3",
   "version": "3.11.4"
  }
 },
 "nbformat": 4,
 "nbformat_minor": 2
}
